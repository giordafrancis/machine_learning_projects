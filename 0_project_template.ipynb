{
 "cells": [
  {
   "cell_type": "markdown",
   "metadata": {},
   "source": [
    "Applied machine learning is an empirical skill. You cannot get better at it by reading books and\n",
    "articles. You have to practice. In this lesson you will discover the simple six-step machine learning\n",
    "project template that you can use to jump-start your project in Python. After completing this\n",
    "lesson you will know:\n",
    "1. How to structure an end-to-end predictive modeling project.\n",
    "2. How to map the tasks you learned about in Part II onto a project.\n",
    "3. How to best use the structured project template to ensure an accurate result for your\n",
    "dataset."
   ]
  },
  {
   "cell_type": "markdown",
   "metadata": {},
   "source": [
    "Any predictive modeling machine learning project can be broken down into six common tasks:\n",
    "1. Define Problem.\n",
    "2. Summarize Data.\n",
    "3. Prepare Data.\n",
    "4. Evaluate Algorithms.\n",
    "5. Improve Results.\n",
    "6. Present Results.\n",
    "\n",
    "Tasks can be combined or broken down further, but this is the general structure. To work\n",
    "through predictive modeling machine learning problems in Python, you need to map Python\n",
    "onto this process. The tasks may need to be adapted or renamed slightly to suit the Python\n",
    "way of doing things (e.g. Pandas for data loading and scikit-learn for modeling). The next\n",
    "section provides exactly this mapping and elaborates each task and the types of sub-tasks and\n",
    "libraries that you can use."
   ]
  },
  {
   "cell_type": "code",
   "execution_count": 1,
   "metadata": {},
   "outputs": [],
   "source": [
    "# Python Project Template\n",
    "\n",
    "# 1. Prepare Problem\n",
    "# a) Load libraries\n",
    "# b) Load dataset\n",
    "\n",
    "# 2. Summarize Data\n",
    "# a) Descriptive statistics\n",
    "# b) Data visualizations\n",
    "\n",
    "# 3. Prepare Data\n",
    "# a) Data Cleaning\n",
    "# b) Feature Selection\n",
    "# c) Data Transforms\n",
    "\n",
    "# 4. Evaluate Algorithms\n",
    "# a) Split-out validation dataset\n",
    "# b) Test options and evaluation metric\n",
    "# c) Spot Check Algorithms\n",
    "# d) Compare Algorithms\n",
    "\n",
    "# 5. Improve Accuracy\n",
    "# a) Algorithm Tuning\n",
    "# b) Ensembles\n",
    "\n",
    "# 6. Finalize Model\n",
    "# a) Predictions on validation dataset\n",
    "# b) Create standalone model on entire training dataset\n",
    "# c) Save model for later use"
   ]
  },
  {
   "cell_type": "markdown",
   "metadata": {},
   "source": [
    "This section lists tips that you can use to make the most of the machine learning project\n",
    "template in Python.\n",
    "\n",
    "- Fast First Pass. Make a first-pass through the project steps as fast as possible. This\n",
    "will give you confidence that you have all the parts that you need and a baseline from\n",
    "which to improve.\n",
    "- Cycles. The process in not linear but cyclic. You will loop between steps, and probably\n",
    "spend most of your time in tight loops between steps 3-4 or 3-4-5 until you achieve a level\n",
    "of accuracy that is sufficient or you run out of time.\n",
    "- Attempt Every Step. It is easy to skip steps, especially if you are not con\f",
    "dent or\n",
    "familiar with the tasks of that step. Try and do something at each step in the process,\n",
    "even if it does not improve accuracy. You can always build upon it later. Don't skip steps,\n",
    "just reduce their contribution.\n",
    "- Ratchet Accuracy. The goal of the project is model accuracy. Every step contributes\n",
    "towards this goal. Treat changes that you make as experiments that increase accuracy as\n",
    "the golden path in the process and reorganize other steps around them. Accuracy is a\n",
    "ratchet that can only move in one direction (better, not worse).\n",
    "- Adapt As Needed. Modify the steps as you need on a project, especially as you become\n",
    "more experienced with the template. Blur the edges of tasks, such as steps 4-5 to best\n",
    "serve model accuracy."
   ]
  }
 ],
 "metadata": {
  "kernelspec": {
   "display_name": "Python 3",
   "language": "python",
   "name": "python3"
  },
  "language_info": {
   "codemirror_mode": {
    "name": "ipython",
    "version": 3
   },
   "file_extension": ".py",
   "mimetype": "text/x-python",
   "name": "python",
   "nbconvert_exporter": "python",
   "pygments_lexer": "ipython3",
   "version": "3.7.3"
  }
 },
 "nbformat": 4,
 "nbformat_minor": 4
}
